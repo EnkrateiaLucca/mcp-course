{
 "cells": [
  {
   "cell_type": "code",
   "execution_count": null,
   "id": "5229231f",
   "metadata": {},
   "outputs": [],
   "source": [
    "# import json\n",
    "\n",
    "# def run_terminal_task():\n",
    "#     messages = [\n",
    "#         {\"role\": \"user\", \n",
    "#          \"content\": \"Create a folder called 'pancakes-are-better-than-waffles'.\"}]\n",
    "#     tools = [tool_create_directory]  \n",
    "#     response = client.chat.completions.create(\n",
    "#         model=\"gpt-4o-mini\",\n",
    "#         messages=messages,\n",
    "#         tools=tools,\n",
    "#         tool_choice=\"auto\",  # auto is default, but we'll be explicit\n",
    "#     )\n",
    "#     response_message = response.choices[0].message\n",
    "#     tool_calls = response_message.tool_calls\n",
    "#     # Step 2: check if the model wanted to call a function\n",
    "    \n",
    "#     if tool_calls:\n",
    "#         # Step 3: call the function\n",
    "#         # Note: the JSON response may not always be valid; be sure to handle errors\n",
    "#         available_functions = {\n",
    "#             \"create_directory\": create_directory,\n",
    "#         }\n",
    "#         messages.append(response_message)\n",
    "#         # Step 4: send the info for each function call and function response to the model\n",
    "#         for tool_call in tool_calls:\n",
    "#             function_name = tool_call.function.name\n",
    "#             function_to_call = available_functions[function_name]\n",
    "#             function_args = json.loads(tool_call.function.arguments)\n",
    "#             function_response = function_to_call(\n",
    "#                 directory_name=function_args.get(\"directory_name\"),\n",
    "#             )\n",
    "#             messages.append(\n",
    "#                 {\n",
    "#                     \"tool_call_id\": tool_call.id,\n",
    "#                     \"role\": \"tool\",\n",
    "#                     \"name\": function_name,\n",
    "#                     \"content\": function_response,\n",
    "#                 }\n",
    "#             )\n",
    "#         second_response = client.chat.completions.create(\n",
    "#             model=\"gpt-4o-mini\",\n",
    "#             messages=messages,\n",
    "#         )\n",
    "#         return second_response"
   ]
  }
 ],
 "metadata": {
  "language_info": {
   "name": "python"
  }
 },
 "nbformat": 4,
 "nbformat_minor": 5
}
