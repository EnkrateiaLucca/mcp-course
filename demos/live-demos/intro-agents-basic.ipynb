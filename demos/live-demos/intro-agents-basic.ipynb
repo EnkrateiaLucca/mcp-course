{
 "cells": [
  {
   "cell_type": "markdown",
   "metadata": {},
   "source": [
    "# Agents Basics with MCP"
   ]
  },
  {
   "cell_type": "code",
   "execution_count": 4,
   "metadata": {},
   "outputs": [
    {
     "name": "stdout",
     "output_type": "stream",
     "text": [
      "As of 2:27 PM on Wednesday, June 11, 2025, in San Francisco, CA, the weather is mostly cloudy with a temperature of 53°F (12°C).\n",
      "\n",
      "## Weather for San Francisco, CA:\n",
      "Current Conditions: Mostly cloudy, 53°F (12°C)\n",
      "\n",
      "Daily Forecast:\n",
      "* Wednesday, June 11: Low: 54°F (12°C), High: 62°F (17°C), Description: Low clouds followed by sunshine\n",
      "* Thursday, June 12: Low: 54°F (12°C), High: 63°F (17°C), Description: Areas of low clouds early, then sunny\n",
      "* Friday, June 13: Low: 51°F (11°C), High: 65°F (18°C), Description: Some low clouds early; otherwise, mostly sunny\n",
      "* Saturday, June 14: Low: 53°F (12°C), High: 64°F (18°C), Description: Areas of low clouds early; otherwise, mostly sunny\n",
      "* Sunday, June 15: Low: 52°F (11°C), High: 62°F (17°C), Description: Cool with partial sunshine\n",
      "* Monday, June 16: Low: 53°F (12°C), High: 63°F (17°C), Description: Plenty of sun\n",
      "* Tuesday, June 17: Low: 52°F (11°C), High: 65°F (18°C), Description: Plenty of sun\n",
      " \n"
     ]
    }
   ],
   "source": [
    "from agents import Agent, Runner, WebSearchTool\n",
    "\n",
    "agent = Agent(\n",
    "    name=\"Assistant\",\n",
    "    tools=[\n",
    "        WebSearchTool(),\n",
    "    ],\n",
    ")\n",
    "\n",
    "\n",
    "result = await Runner.run(agent, \"What is the weather in SF?\")\n",
    "print(result.final_output)"
   ]
  },
  {
   "cell_type": "code",
   "execution_count": null,
   "metadata": {},
   "outputs": [],
   "source": []
  },
  {
   "cell_type": "code",
   "execution_count": null,
   "metadata": {},
   "outputs": [],
   "source": [
    "import json\n",
    "\n",
    "from typing_extensions import TypedDict, Any\n",
    "\n",
    "from agents import Agent, FunctionTool, RunContextWrapper, function_tool\n",
    "\n",
    "\n",
    "class Location(TypedDict):\n",
    "    lat: float\n",
    "    long: float\n",
    "\n",
    "@function_tool  \n",
    "async def fetch_weather(location: Location) -> str:\n",
    "    \n",
    "    \"\"\"Fetch the weather for a given location.\n",
    "\n",
    "    Args:\n",
    "        location: The location to fetch the weather for.\n",
    "    \"\"\"\n",
    "    # In real life, we'd fetch the weather from a weather API\n",
    "    return \"sunny\"\n",
    "\n",
    "\n",
    "@function_tool(name_override=\"fetch_data\")  \n",
    "def read_file(ctx: RunContextWrapper[Any], path: str, directory: str | None = None) -> str:\n",
    "    \"\"\"Read the contents of a file.\n",
    "\n",
    "    Args:\n",
    "        path: The path to the file to read.\n",
    "        directory: The directory to read the file from.\n",
    "    \"\"\"\n",
    "    # In real life, we'd read the file from the file system\n",
    "    return \"<file contents>\"\n",
    "\n",
    "\n",
    "agent = Agent(\n",
    "    name=\"Assistant\",\n",
    "    tools=[fetch_weather, read_file],  \n",
    ")\n",
    "\n",
    "for tool in agent.tools:\n",
    "    if isinstance(tool, FunctionTool):\n",
    "        print(tool.name)\n",
    "        print(tool.description)\n",
    "        print(json.dumps(tool.params_json_schema, indent=2))\n",
    "        print()"
   ]
  },
  {
   "cell_type": "code",
   "execution_count": null,
   "metadata": {},
   "outputs": [],
   "source": []
  }
 ],
 "metadata": {
  "language_info": {
   "name": "python"
  }
 },
 "nbformat": 4,
 "nbformat_minor": 2
}
